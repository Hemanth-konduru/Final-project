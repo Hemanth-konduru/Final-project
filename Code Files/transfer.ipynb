{
 "cells": [
  {
   "cell_type": "raw",
   "id": "06fc912a",
   "metadata": {
    "papermill": {
     "duration": 0.007616,
     "end_time": "2024-04-02T11:50:21.214282",
     "exception": false,
     "start_time": "2024-04-02T11:50:21.206666",
     "status": "completed"
    },
    "tags": []
   },
   "source": [
    "pip install torch torchvision\n",
    "pip install scikit-learn\n",
    "pip install pillow\n",
    "pip install autogluon"
   ]
  },
  {
   "cell_type": "code",
   "execution_count": 1,
   "id": "82faefc1",
   "metadata": {
    "_cell_guid": "b1076dfc-b9ad-4769-8c92-a6c4dae69d19",
    "_uuid": "8f2839f25d086af736a60e9eeb907d3b93b6e0e5",
    "execution": {
     "iopub.execute_input": "2024-04-02T11:50:21.229960Z",
     "iopub.status.busy": "2024-04-02T11:50:21.229669Z",
     "iopub.status.idle": "2024-04-02T11:50:29.998820Z",
     "shell.execute_reply": "2024-04-02T11:50:29.997996Z"
    },
    "papermill": {
     "duration": 8.77948,
     "end_time": "2024-04-02T11:50:30.001197",
     "exception": false,
     "start_time": "2024-04-02T11:50:21.221717",
     "status": "completed"
    },
    "tags": []
   },
   "outputs": [],
   "source": [
    "import os\n",
    "import numpy as np\n",
    "from PIL import Image\n",
    "import torch\n",
    "import torch.nn as nn\n",
    "import torchvision.transforms as transforms\n",
    "from torch.utils.data import DataLoader, Dataset\n",
    "import torchvision.models as models\n",
    "import torch.optim as optim\n",
    "from sklearn.metrics import accuracy_score"
   ]
  },
  {
   "cell_type": "markdown",
   "id": "130f01dc",
   "metadata": {
    "papermill": {
     "duration": 0.007083,
     "end_time": "2024-04-02T11:50:30.015660",
     "exception": false,
     "start_time": "2024-04-02T11:50:30.008577",
     "status": "completed"
    },
    "tags": []
   },
   "source": [
    "# Define dataset directories"
   ]
  },
  {
   "cell_type": "code",
   "execution_count": 2,
   "id": "18d88134",
   "metadata": {
    "execution": {
     "iopub.execute_input": "2024-04-02T11:50:30.031373Z",
     "iopub.status.busy": "2024-04-02T11:50:30.030614Z",
     "iopub.status.idle": "2024-04-02T11:50:30.034795Z",
     "shell.execute_reply": "2024-04-02T11:50:30.034009Z"
    },
    "papermill": {
     "duration": 0.014006,
     "end_time": "2024-04-02T11:50:30.036680",
     "exception": false,
     "start_time": "2024-04-02T11:50:30.022674",
     "status": "completed"
    },
    "tags": []
   },
   "outputs": [],
   "source": [
    "fruit_dir = '/kaggle/input/fruits-and-vegetables-dataset/Fruits_Vegetables_Dataset(12000)/Fruits'\n",
    "veg_dir = '/kaggle/input/fruits-and-vegetables-dataset/Fruits_Vegetables_Dataset(12000)/Vegetables'"
   ]
  },
  {
   "cell_type": "markdown",
   "id": "53d2139e",
   "metadata": {
    "papermill": {
     "duration": 0.006686,
     "end_time": "2024-04-02T11:50:30.050314",
     "exception": false,
     "start_time": "2024-04-02T11:50:30.043628",
     "status": "completed"
    },
    "tags": []
   },
   "source": [
    "\n",
    "# Define fruit and vegetable classes"
   ]
  },
  {
   "cell_type": "code",
   "execution_count": 3,
   "id": "ecf17852",
   "metadata": {
    "execution": {
     "iopub.execute_input": "2024-04-02T11:50:30.065495Z",
     "iopub.status.busy": "2024-04-02T11:50:30.065211Z",
     "iopub.status.idle": "2024-04-02T11:50:30.069922Z",
     "shell.execute_reply": "2024-04-02T11:50:30.069119Z"
    },
    "papermill": {
     "duration": 0.014288,
     "end_time": "2024-04-02T11:50:30.071748",
     "exception": false,
     "start_time": "2024-04-02T11:50:30.057460",
     "status": "completed"
    },
    "tags": []
   },
   "outputs": [],
   "source": [
    "\n",
    "fruit_classes = ['FreshApple', 'RottenApple', 'FreshBanana', 'RottenBanana', 'FreshMango', 'RottenMango', 'FreshOrange', 'RottenOrange', 'FreshStrawberry', 'RottenStrawberry']\n",
    "veg_classes = ['FreshCarrot', 'RottenCarrot', 'FreshTomato', 'RottenTomato', 'FreshCucumber', 'RottenCucumber', 'FreshPotato', 'RottenPotato', 'FreshBellpepper', 'RottenBellpepper']\n",
    "\n"
   ]
  },
  {
   "cell_type": "markdown",
   "id": "6e5692ba",
   "metadata": {
    "papermill": {
     "duration": 0.006844,
     "end_time": "2024-04-02T11:50:30.085557",
     "exception": false,
     "start_time": "2024-04-02T11:50:30.078713",
     "status": "completed"
    },
    "tags": []
   },
   "source": [
    "# Define a custom dataset class"
   ]
  },
  {
   "cell_type": "code",
   "execution_count": 4,
   "id": "f9a38a79",
   "metadata": {
    "execution": {
     "iopub.execute_input": "2024-04-02T11:50:30.102271Z",
     "iopub.status.busy": "2024-04-02T11:50:30.101997Z",
     "iopub.status.idle": "2024-04-02T11:50:30.109725Z",
     "shell.execute_reply": "2024-04-02T11:50:30.108846Z"
    },
    "papermill": {
     "duration": 0.017652,
     "end_time": "2024-04-02T11:50:30.111820",
     "exception": false,
     "start_time": "2024-04-02T11:50:30.094168",
     "status": "completed"
    },
    "tags": []
   },
   "outputs": [],
   "source": [
    "\n",
    "class CustomDataset(Dataset):\n",
    "    def __init__(self, data_dir, classes, transform=None):\n",
    "        self.data_dir = data_dir\n",
    "        self.classes = classes\n",
    "        self.transform = transform\n",
    "        self.images = []\n",
    "        self.labels = []\n",
    "\n",
    "        for class_name in classes:\n",
    "            class_path = os.path.join(data_dir, class_name)\n",
    "            for img_name in os.listdir(class_path):\n",
    "                img_path = os.path.join(class_path, img_name)\n",
    "                img = Image.open(img_path).convert('RGB')\n",
    "                self.images.append(img)\n",
    "                self.labels.append(classes.index(class_name))\n",
    "\n",
    "    def __len__(self):\n",
    "        return len(self.images)\n",
    "\n",
    "    def __getitem__(self, idx):\n",
    "        image = self.images[idx]\n",
    "        label = self.labels[idx]\n",
    "        \n",
    "        if self.transform:\n",
    "            image = self.transform(image)\n",
    "\n",
    "        return image, label"
   ]
  },
  {
   "cell_type": "markdown",
   "id": "86aebd66",
   "metadata": {
    "papermill": {
     "duration": 0.006778,
     "end_time": "2024-04-02T11:50:30.125664",
     "exception": false,
     "start_time": "2024-04-02T11:50:30.118886",
     "status": "completed"
    },
    "tags": []
   },
   "source": [
    "\n",
    "\n",
    "# Define transforms"
   ]
  },
  {
   "cell_type": "code",
   "execution_count": 5,
   "id": "7247cabe",
   "metadata": {
    "execution": {
     "iopub.execute_input": "2024-04-02T11:50:30.140933Z",
     "iopub.status.busy": "2024-04-02T11:50:30.140250Z",
     "iopub.status.idle": "2024-04-02T11:50:30.144629Z",
     "shell.execute_reply": "2024-04-02T11:50:30.143830Z"
    },
    "papermill": {
     "duration": 0.014144,
     "end_time": "2024-04-02T11:50:30.146743",
     "exception": false,
     "start_time": "2024-04-02T11:50:30.132599",
     "status": "completed"
    },
    "tags": []
   },
   "outputs": [],
   "source": [
    "\n",
    "data_transform = transforms.Compose([\n",
    "    transforms.Resize((224, 224)),\n",
    "    transforms.ToTensor(),\n",
    "])\n",
    "\n",
    "\n"
   ]
  },
  {
   "cell_type": "markdown",
   "id": "044aab2e",
   "metadata": {
    "papermill": {
     "duration": 0.007408,
     "end_time": "2024-04-02T11:50:30.161784",
     "exception": false,
     "start_time": "2024-04-02T11:50:30.154376",
     "status": "completed"
    },
    "tags": []
   },
   "source": [
    "# Create datasets and data loaders"
   ]
  },
  {
   "cell_type": "code",
   "execution_count": 6,
   "id": "deaef5fe",
   "metadata": {
    "execution": {
     "iopub.execute_input": "2024-04-02T11:50:30.178059Z",
     "iopub.status.busy": "2024-04-02T11:50:30.177770Z",
     "iopub.status.idle": "2024-04-02T11:52:29.939585Z",
     "shell.execute_reply": "2024-04-02T11:52:29.938497Z"
    },
    "papermill": {
     "duration": 119.77265,
     "end_time": "2024-04-02T11:52:29.942053",
     "exception": false,
     "start_time": "2024-04-02T11:50:30.169403",
     "status": "completed"
    },
    "tags": []
   },
   "outputs": [
    {
     "name": "stderr",
     "output_type": "stream",
     "text": [
      "/opt/conda/lib/python3.10/site-packages/PIL/Image.py:992: UserWarning: Palette images with Transparency expressed in bytes should be converted to RGBA images\n",
      "  warnings.warn(\n"
     ]
    }
   ],
   "source": [
    "\n",
    "fruit_dataset = CustomDataset(fruit_dir, fruit_classes, transform=data_transform)\n",
    "veg_dataset = CustomDataset(veg_dir, veg_classes, transform=data_transform)\n"
   ]
  },
  {
   "cell_type": "markdown",
   "id": "de21dfad",
   "metadata": {
    "papermill": {
     "duration": 0.006938,
     "end_time": "2024-04-02T11:52:29.956633",
     "exception": false,
     "start_time": "2024-04-02T11:52:29.949695",
     "status": "completed"
    },
    "tags": []
   },
   "source": [
    "# Combine datasets"
   ]
  },
  {
   "cell_type": "code",
   "execution_count": 7,
   "id": "b7c3ab63",
   "metadata": {
    "execution": {
     "iopub.execute_input": "2024-04-02T11:52:29.972960Z",
     "iopub.status.busy": "2024-04-02T11:52:29.972618Z",
     "iopub.status.idle": "2024-04-02T11:52:29.977064Z",
     "shell.execute_reply": "2024-04-02T11:52:29.976117Z"
    },
    "papermill": {
     "duration": 0.015527,
     "end_time": "2024-04-02T11:52:29.979086",
     "exception": false,
     "start_time": "2024-04-02T11:52:29.963559",
     "status": "completed"
    },
    "tags": []
   },
   "outputs": [],
   "source": [
    "\n",
    "combined_dataset = torch.utils.data.ConcatDataset([fruit_dataset, veg_dataset])\n",
    "\n"
   ]
  },
  {
   "cell_type": "markdown",
   "id": "bdc375cb",
   "metadata": {
    "papermill": {
     "duration": 0.006947,
     "end_time": "2024-04-02T11:52:29.993740",
     "exception": false,
     "start_time": "2024-04-02T11:52:29.986793",
     "status": "completed"
    },
    "tags": []
   },
   "source": [
    "# Define train and test split"
   ]
  },
  {
   "cell_type": "code",
   "execution_count": 8,
   "id": "261718ef",
   "metadata": {
    "execution": {
     "iopub.execute_input": "2024-04-02T11:52:30.009245Z",
     "iopub.status.busy": "2024-04-02T11:52:30.008999Z",
     "iopub.status.idle": "2024-04-02T11:52:30.036269Z",
     "shell.execute_reply": "2024-04-02T11:52:30.035590Z"
    },
    "papermill": {
     "duration": 0.037212,
     "end_time": "2024-04-02T11:52:30.038188",
     "exception": false,
     "start_time": "2024-04-02T11:52:30.000976",
     "status": "completed"
    },
    "tags": []
   },
   "outputs": [],
   "source": [
    "\n",
    "train_size = int(0.8 * len(combined_dataset))\n",
    "test_size = len(combined_dataset) - train_size\n",
    "train_dataset, test_dataset = torch.utils.data.random_split(combined_dataset, [train_size, test_size])\n",
    "\n"
   ]
  },
  {
   "cell_type": "markdown",
   "id": "f178bbf5",
   "metadata": {
    "papermill": {
     "duration": 0.006954,
     "end_time": "2024-04-02T11:52:30.052581",
     "exception": false,
     "start_time": "2024-04-02T11:52:30.045627",
     "status": "completed"
    },
    "tags": []
   },
   "source": [
    "# Create data loaders"
   ]
  },
  {
   "cell_type": "code",
   "execution_count": 9,
   "id": "fa966e14",
   "metadata": {
    "execution": {
     "iopub.execute_input": "2024-04-02T11:52:30.067856Z",
     "iopub.status.busy": "2024-04-02T11:52:30.067280Z",
     "iopub.status.idle": "2024-04-02T11:52:30.071810Z",
     "shell.execute_reply": "2024-04-02T11:52:30.070925Z"
    },
    "papermill": {
     "duration": 0.014266,
     "end_time": "2024-04-02T11:52:30.073738",
     "exception": false,
     "start_time": "2024-04-02T11:52:30.059472",
     "status": "completed"
    },
    "tags": []
   },
   "outputs": [],
   "source": [
    "\n",
    "train_loader = DataLoader(train_dataset, batch_size=32, shuffle=True)\n",
    "test_loader = DataLoader(test_dataset, batch_size=32, shuffle=False)\n"
   ]
  },
  {
   "cell_type": "markdown",
   "id": "792f7b81",
   "metadata": {
    "papermill": {
     "duration": 0.006855,
     "end_time": "2024-04-02T11:52:30.087696",
     "exception": false,
     "start_time": "2024-04-02T11:52:30.080841",
     "status": "completed"
    },
    "tags": []
   },
   "source": [
    "# Define the model"
   ]
  },
  {
   "cell_type": "code",
   "execution_count": 10,
   "id": "f142f20f",
   "metadata": {
    "execution": {
     "iopub.execute_input": "2024-04-02T11:52:30.102642Z",
     "iopub.status.busy": "2024-04-02T11:52:30.102382Z",
     "iopub.status.idle": "2024-04-02T11:52:31.481047Z",
     "shell.execute_reply": "2024-04-02T11:52:31.480152Z"
    },
    "papermill": {
     "duration": 1.388923,
     "end_time": "2024-04-02T11:52:31.483655",
     "exception": false,
     "start_time": "2024-04-02T11:52:30.094732",
     "status": "completed"
    },
    "tags": []
   },
   "outputs": [
    {
     "name": "stderr",
     "output_type": "stream",
     "text": [
      "/opt/conda/lib/python3.10/site-packages/torchvision/models/_utils.py:208: UserWarning: The parameter 'pretrained' is deprecated since 0.13 and may be removed in the future, please use 'weights' instead.\n",
      "  warnings.warn(\n",
      "/opt/conda/lib/python3.10/site-packages/torchvision/models/_utils.py:223: UserWarning: Arguments other than a weight enum or `None` for 'weights' are deprecated since 0.13 and may be removed in the future. The current behavior is equivalent to passing `weights=ResNet50_Weights.IMAGENET1K_V1`. You can also use `weights=ResNet50_Weights.DEFAULT` to get the most up-to-date weights.\n",
      "  warnings.warn(msg)\n",
      "Downloading: \"https://download.pytorch.org/models/resnet50-0676ba61.pth\" to /root/.cache/torch/hub/checkpoints/resnet50-0676ba61.pth\n",
      "100%|██████████| 97.8M/97.8M [00:00<00:00, 152MB/s]\n"
     ]
    }
   ],
   "source": [
    "\n",
    "resnet = models.resnet50(pretrained=True)\n"
   ]
  },
  {
   "cell_type": "markdown",
   "id": "34f5605f",
   "metadata": {
    "papermill": {
     "duration": 0.0083,
     "end_time": "2024-04-02T11:52:31.501040",
     "exception": false,
     "start_time": "2024-04-02T11:52:31.492740",
     "status": "completed"
    },
    "tags": []
   },
   "source": [
    "# Freeze all layers except the final fully connected layer"
   ]
  },
  {
   "cell_type": "code",
   "execution_count": 11,
   "id": "2065e6f1",
   "metadata": {
    "execution": {
     "iopub.execute_input": "2024-04-02T11:52:31.518818Z",
     "iopub.status.busy": "2024-04-02T11:52:31.518515Z",
     "iopub.status.idle": "2024-04-02T11:52:31.523843Z",
     "shell.execute_reply": "2024-04-02T11:52:31.522985Z"
    },
    "papermill": {
     "duration": 0.016185,
     "end_time": "2024-04-02T11:52:31.525767",
     "exception": false,
     "start_time": "2024-04-02T11:52:31.509582",
     "status": "completed"
    },
    "tags": []
   },
   "outputs": [],
   "source": [
    "\n",
    "for param in resnet.parameters():\n",
    "    param.requires_grad = False"
   ]
  },
  {
   "cell_type": "markdown",
   "id": "4a6a6d21",
   "metadata": {
    "papermill": {
     "duration": 0.008075,
     "end_time": "2024-04-02T11:52:31.542000",
     "exception": false,
     "start_time": "2024-04-02T11:52:31.533925",
     "status": "completed"
    },
    "tags": []
   },
   "source": [
    "# Replace the final fully connected layer"
   ]
  },
  {
   "cell_type": "code",
   "execution_count": 12,
   "id": "dbb94247",
   "metadata": {
    "execution": {
     "iopub.execute_input": "2024-04-02T11:52:31.559099Z",
     "iopub.status.busy": "2024-04-02T11:52:31.558839Z",
     "iopub.status.idle": "2024-04-02T11:52:31.563366Z",
     "shell.execute_reply": "2024-04-02T11:52:31.562513Z"
    },
    "papermill": {
     "duration": 0.015198,
     "end_time": "2024-04-02T11:52:31.565215",
     "exception": false,
     "start_time": "2024-04-02T11:52:31.550017",
     "status": "completed"
    },
    "tags": []
   },
   "outputs": [],
   "source": [
    "\n",
    "num_ftrs = resnet.fc.in_features\n",
    "resnet.fc = nn.Linear(num_ftrs, len(fruit_classes) + len(veg_classes))\n"
   ]
  },
  {
   "cell_type": "markdown",
   "id": "f806fa12",
   "metadata": {
    "papermill": {
     "duration": 0.008812,
     "end_time": "2024-04-02T11:52:31.582073",
     "exception": false,
     "start_time": "2024-04-02T11:52:31.573261",
     "status": "completed"
    },
    "tags": []
   },
   "source": [
    "\n",
    "# Define loss function and optimizer"
   ]
  },
  {
   "cell_type": "code",
   "execution_count": 13,
   "id": "02c0e5fb",
   "metadata": {
    "execution": {
     "iopub.execute_input": "2024-04-02T11:52:31.600703Z",
     "iopub.status.busy": "2024-04-02T11:52:31.600426Z",
     "iopub.status.idle": "2024-04-02T11:52:31.605968Z",
     "shell.execute_reply": "2024-04-02T11:52:31.605088Z"
    },
    "papermill": {
     "duration": 0.017213,
     "end_time": "2024-04-02T11:52:31.608089",
     "exception": false,
     "start_time": "2024-04-02T11:52:31.590876",
     "status": "completed"
    },
    "tags": []
   },
   "outputs": [],
   "source": [
    "\n",
    "criterion = nn.CrossEntropyLoss()\n",
    "optimizer = optim.Adam(resnet.parameters(), lr=0.001)\n"
   ]
  },
  {
   "cell_type": "markdown",
   "id": "89ea7ae8",
   "metadata": {
    "papermill": {
     "duration": 0.008082,
     "end_time": "2024-04-02T11:52:31.624760",
     "exception": false,
     "start_time": "2024-04-02T11:52:31.616678",
     "status": "completed"
    },
    "tags": []
   },
   "source": [
    "# Train the model"
   ]
  },
  {
   "cell_type": "code",
   "execution_count": 14,
   "id": "2e787fd5",
   "metadata": {
    "execution": {
     "iopub.execute_input": "2024-04-02T11:52:31.641851Z",
     "iopub.status.busy": "2024-04-02T11:52:31.641599Z",
     "iopub.status.idle": "2024-04-02T15:07:34.200411Z",
     "shell.execute_reply": "2024-04-02T15:07:34.199311Z"
    },
    "papermill": {
     "duration": 11702.580564,
     "end_time": "2024-04-02T15:07:34.213464",
     "exception": false,
     "start_time": "2024-04-02T11:52:31.632900",
     "status": "completed"
    },
    "tags": []
   },
   "outputs": [
    {
     "name": "stdout",
     "output_type": "stream",
     "text": [
      "Epoch [1/10], Loss: 0.8594485374291738\n",
      "Epoch [2/10], Loss: 0.41755169093608857\n",
      "Epoch [3/10], Loss: 0.34463432284692924\n",
      "Epoch [4/10], Loss: 0.3091974190125863\n",
      "Epoch [5/10], Loss: 0.2747807362427314\n",
      "Epoch [6/10], Loss: 0.24900790157417457\n",
      "Epoch [7/10], Loss: 0.23927819456905128\n",
      "Epoch [8/10], Loss: 0.22488371507575114\n",
      "Epoch [9/10], Loss: 0.2210466382900874\n",
      "Epoch [10/10], Loss: 0.21152354178329308\n"
     ]
    }
   ],
   "source": [
    "\n",
    "\n",
    "num_epochs = 10\n",
    "resnet.train()\n",
    "for epoch in range(num_epochs):\n",
    "    running_loss = 0.0\n",
    "    for inputs, labels in train_loader:\n",
    "        optimizer.zero_grad()\n",
    "        outputs = resnet(inputs)\n",
    "        loss = criterion(outputs, labels)\n",
    "        loss.backward()\n",
    "        optimizer.step()\n",
    "        running_loss += loss.item() * inputs.size(0)\n",
    "    epoch_loss = running_loss / len(train_dataset)\n",
    "    print(f\"Epoch [{epoch+1}/{num_epochs}], Loss: {epoch_loss}\")\n"
   ]
  },
  {
   "cell_type": "markdown",
   "id": "54c944b3",
   "metadata": {
    "papermill": {
     "duration": 0.00922,
     "end_time": "2024-04-02T15:07:34.232380",
     "exception": false,
     "start_time": "2024-04-02T15:07:34.223160",
     "status": "completed"
    },
    "tags": []
   },
   "source": [
    "# Evaluate the model"
   ]
  },
  {
   "cell_type": "code",
   "execution_count": 15,
   "id": "e9ac262d",
   "metadata": {
    "execution": {
     "iopub.execute_input": "2024-04-02T15:07:34.251659Z",
     "iopub.status.busy": "2024-04-02T15:07:34.251248Z",
     "iopub.status.idle": "2024-04-02T15:11:50.080488Z",
     "shell.execute_reply": "2024-04-02T15:11:50.079400Z"
    },
    "papermill": {
     "duration": 255.853883,
     "end_time": "2024-04-02T15:11:50.094849",
     "exception": false,
     "start_time": "2024-04-02T15:07:34.240966",
     "status": "completed"
    },
    "tags": []
   },
   "outputs": [
    {
     "name": "stdout",
     "output_type": "stream",
     "text": [
      "Accuracy: 0.9275\n"
     ]
    }
   ],
   "source": [
    "\n",
    "resnet.eval()\n",
    "y_true = []\n",
    "y_pred = []\n",
    "with torch.no_grad():\n",
    "    for inputs, labels in test_loader:\n",
    "        outputs = resnet(inputs)\n",
    "        _, predicted = torch.max(outputs, 1)\n",
    "        y_true.extend(labels.numpy())\n",
    "        y_pred.extend(predicted.numpy())\n",
    "\n",
    "accuracy = accuracy_score(y_true, y_pred)\n",
    "print(f\"Accuracy: {accuracy}\")"
   ]
  }
 ],
 "metadata": {
  "kaggle": {
   "accelerator": "nvidiaTeslaT4",
   "dataSources": [
    {
     "datasetId": 2468468,
     "sourceId": 4751292,
     "sourceType": "datasetVersion"
    },
    {
     "datasetId": 952827,
     "sourceId": 3173719,
     "sourceType": "datasetVersion"
    }
   ],
   "dockerImageVersionId": 30674,
   "isGpuEnabled": true,
   "isInternetEnabled": true,
   "language": "python",
   "sourceType": "notebook"
  },
  "kernelspec": {
   "display_name": "Python 3",
   "language": "python",
   "name": "python3"
  },
  "language_info": {
   "codemirror_mode": {
    "name": "ipython",
    "version": 3
   },
   "file_extension": ".py",
   "mimetype": "text/x-python",
   "name": "python",
   "nbconvert_exporter": "python",
   "pygments_lexer": "ipython3",
   "version": "3.10.13"
  },
  "papermill": {
   "default_parameters": {},
   "duration": 12095.006028,
   "end_time": "2024-04-02T15:11:53.214806",
   "environment_variables": {},
   "exception": null,
   "input_path": "__notebook__.ipynb",
   "output_path": "__notebook__.ipynb",
   "parameters": {},
   "start_time": "2024-04-02T11:50:18.208778",
   "version": "2.5.0"
  }
 },
 "nbformat": 4,
 "nbformat_minor": 5
}
